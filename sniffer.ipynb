{
 "cells": [
  {
   "cell_type": "code",
   "execution_count": 1,
   "metadata": {
    "collapsed": true
   },
   "outputs": [
    {
     "ename": "OSError",
     "evalue": "b'\\\\Device\\\\NPF_{50F4922D-E519-4DF5-8AB1-EC5AA1564F26}: failed to set hardware filter to promiscuous mode: Un p\\xe9riph\\xe9rique attach\\xe9 au syst\\xe8me ne fonctionne pas correctement.  (31)'",
     "output_type": "error",
     "traceback": [
      "\u001B[1;31m---------------------------------------------------------------------------\u001B[0m",
      "\u001B[1;31mOSError\u001B[0m                                   Traceback (most recent call last)",
      "Cell \u001B[1;32mIn[1], line 24\u001B[0m\n\u001B[0;32m     21\u001B[0m         \u001B[38;5;28mprint\u001B[39m(\u001B[38;5;124m\"\u001B[39m\u001B[38;5;124mIPv6 DESTINATION : \u001B[39m\u001B[38;5;124m\"\u001B[39m \u001B[38;5;241m+\u001B[39m trame[\u001B[38;5;241m1\u001B[39m]\u001B[38;5;241m.\u001B[39mdst \u001B[38;5;241m+\u001B[39m \u001B[38;5;124m\"\u001B[39m\u001B[38;5;130;01m\\n\u001B[39;00m\u001B[38;5;124m\"\u001B[39m)\n\u001B[0;32m     23\u001B[0m carte \u001B[38;5;241m=\u001B[39m conf\u001B[38;5;241m.\u001B[39miface\n\u001B[1;32m---> 24\u001B[0m \u001B[38;5;28mprint\u001B[39m(\u001B[38;5;124mf\u001B[39m\u001B[38;5;124m\"\u001B[39m\u001B[38;5;124mSniffing on \u001B[39m\u001B[38;5;132;01m{\u001B[39;00mcarte\u001B[38;5;132;01m}\u001B[39;00m\u001B[38;5;124m \u001B[39m\u001B[38;5;130;01m\\n\u001B[39;00m\u001B[38;5;124m \u001B[39m\u001B[38;5;132;01m{\u001B[39;00m\u001B[43msniff\u001B[49m\u001B[43m(\u001B[49m\u001B[38;5;28;43mfilter\u001B[39;49m\u001B[38;5;241;43m=\u001B[39;49m\u001B[38;5;124;43m'\u001B[39;49m\u001B[38;5;124;43mip6 proto 58\u001B[39;49m\u001B[38;5;124;43m'\u001B[39;49m\u001B[43m,\u001B[49m\u001B[43m \u001B[49m\u001B[43miface\u001B[49m\u001B[38;5;241;43m=\u001B[39;49m\u001B[43mcarte\u001B[49m\u001B[43m,\u001B[49m\u001B[43m \u001B[49m\u001B[43mprn\u001B[49m\u001B[38;5;241;43m=\u001B[39;49m\u001B[43mprint_ipv6\u001B[49m\u001B[43m,\u001B[49m\u001B[43m \u001B[49m\u001B[43mstore\u001B[49m\u001B[38;5;241;43m=\u001B[39;49m\u001B[38;5;241;43m0\u001B[39;49m\u001B[43m,\u001B[49m\u001B[43m \u001B[49m\u001B[43mcount\u001B[49m\u001B[38;5;241;43m=\u001B[39;49m\u001B[38;5;241;43m10\u001B[39;49m\u001B[43m)\u001B[49m\u001B[38;5;132;01m}\u001B[39;00m\u001B[38;5;124m\"\u001B[39m)\n",
      "File \u001B[1;32m~\\AppData\\Local\\Programs\\Python\\Python310\\lib\\site-packages\\scapy\\sendrecv.py:1305\u001B[0m, in \u001B[0;36msniff\u001B[1;34m(*args, **kwargs)\u001B[0m\n\u001B[0;32m   1301\u001B[0m \u001B[38;5;129m@conf\u001B[39m\u001B[38;5;241m.\u001B[39mcommands\u001B[38;5;241m.\u001B[39mregister\n\u001B[0;32m   1302\u001B[0m \u001B[38;5;28;01mdef\u001B[39;00m \u001B[38;5;21msniff\u001B[39m(\u001B[38;5;241m*\u001B[39margs, \u001B[38;5;241m*\u001B[39m\u001B[38;5;241m*\u001B[39mkwargs):\n\u001B[0;32m   1303\u001B[0m     \u001B[38;5;66;03m# type: (*Any, **Any) -> PacketList\u001B[39;00m\n\u001B[0;32m   1304\u001B[0m     sniffer \u001B[38;5;241m=\u001B[39m AsyncSniffer()\n\u001B[1;32m-> 1305\u001B[0m     sniffer\u001B[38;5;241m.\u001B[39m_run(\u001B[38;5;241m*\u001B[39margs, \u001B[38;5;241m*\u001B[39m\u001B[38;5;241m*\u001B[39mkwargs)\n\u001B[0;32m   1306\u001B[0m     \u001B[38;5;28;01mreturn\u001B[39;00m cast(PacketList, sniffer\u001B[38;5;241m.\u001B[39mresults)\n",
      "File \u001B[1;32m~\\AppData\\Local\\Programs\\Python\\Python310\\lib\\site-packages\\scapy\\sendrecv.py:1165\u001B[0m, in \u001B[0;36mAsyncSniffer._run\u001B[1;34m(self, count, store, offline, quiet, prn, lfilter, L2socket, timeout, opened_socket, stop_filter, iface, started_callback, session, session_kwargs, **karg)\u001B[0m\n\u001B[0;32m   1163\u001B[0m     \u001B[38;5;28;01melse\u001B[39;00m:\n\u001B[0;32m   1164\u001B[0m         iface \u001B[38;5;241m=\u001B[39m iface \u001B[38;5;129;01mor\u001B[39;00m conf\u001B[38;5;241m.\u001B[39miface\n\u001B[1;32m-> 1165\u001B[0m         sniff_sockets[_RL2(iface)(\u001B[38;5;28mtype\u001B[39m\u001B[38;5;241m=\u001B[39mETH_P_ALL, iface\u001B[38;5;241m=\u001B[39miface,\n\u001B[0;32m   1166\u001B[0m                                   \u001B[38;5;241m*\u001B[39m\u001B[38;5;241m*\u001B[39mkarg)] \u001B[38;5;241m=\u001B[39m iface\n\u001B[0;32m   1168\u001B[0m \u001B[38;5;66;03m# Get select information from the sockets\u001B[39;00m\n\u001B[0;32m   1169\u001B[0m _main_socket \u001B[38;5;241m=\u001B[39m \u001B[38;5;28mnext\u001B[39m(\u001B[38;5;28miter\u001B[39m(sniff_sockets))\n",
      "File \u001B[1;32m~\\AppData\\Local\\Programs\\Python\\Python310\\lib\\site-packages\\scapy\\arch\\libpcap.py:445\u001B[0m, in \u001B[0;36mL2pcapListenSocket.__init__\u001B[1;34m(self, iface, type, promisc, filter, monitor)\u001B[0m\n\u001B[0;32m    443\u001B[0m \u001B[38;5;28;01melse\u001B[39;00m:\n\u001B[0;32m    444\u001B[0m     \u001B[38;5;28mself\u001B[39m\u001B[38;5;241m.\u001B[39mpromisc \u001B[38;5;241m=\u001B[39m conf\u001B[38;5;241m.\u001B[39msniff_promisc\n\u001B[1;32m--> 445\u001B[0m fd \u001B[38;5;241m=\u001B[39m \u001B[43mopen_pcap\u001B[49m\u001B[43m(\u001B[49m\n\u001B[0;32m    446\u001B[0m \u001B[43m    \u001B[49m\u001B[43miface\u001B[49m\u001B[43m,\u001B[49m\u001B[43m \u001B[49m\u001B[43mMTU\u001B[49m\u001B[43m,\u001B[49m\u001B[43m \u001B[49m\u001B[38;5;28;43mself\u001B[39;49m\u001B[38;5;241;43m.\u001B[39;49m\u001B[43mpromisc\u001B[49m\u001B[43m,\u001B[49m\u001B[43m \u001B[49m\u001B[38;5;241;43m100\u001B[39;49m\u001B[43m,\u001B[49m\n\u001B[0;32m    447\u001B[0m \u001B[43m    \u001B[49m\u001B[43mmonitor\u001B[49m\u001B[38;5;241;43m=\u001B[39;49m\u001B[43mmonitor\u001B[49m\n\u001B[0;32m    448\u001B[0m \u001B[43m\u001B[49m\u001B[43m)\u001B[49m\n\u001B[0;32m    449\u001B[0m \u001B[38;5;28msuper\u001B[39m(L2pcapListenSocket, \u001B[38;5;28mself\u001B[39m)\u001B[38;5;241m.\u001B[39m\u001B[38;5;21m__init__\u001B[39m(fd)\n\u001B[0;32m    450\u001B[0m \u001B[38;5;28;01mtry\u001B[39;00m:\n",
      "File \u001B[1;32m~\\AppData\\Local\\Programs\\Python\\Python310\\lib\\site-packages\\scapy\\arch\\windows\\__init__.py:770\u001B[0m, in \u001B[0;36mopen_pcap\u001B[1;34m(iface, *args, **kargs)\u001B[0m\n\u001B[0;32m    766\u001B[0m     \u001B[38;5;28;01mif\u001B[39;00m kw_monitor \u001B[38;5;129;01mis\u001B[39;00m \u001B[38;5;129;01mnot\u001B[39;00m monitored:\n\u001B[0;32m    767\u001B[0m         \u001B[38;5;66;03m# The monitor param is specified, and not matching the current\u001B[39;00m\n\u001B[0;32m    768\u001B[0m         \u001B[38;5;66;03m# interface state\u001B[39;00m\n\u001B[0;32m    769\u001B[0m         iface\u001B[38;5;241m.\u001B[39msetmonitor(kw_monitor)\n\u001B[1;32m--> 770\u001B[0m \u001B[38;5;28;01mreturn\u001B[39;00m _orig_open_pcap(iface_network_name, \u001B[38;5;241m*\u001B[39margs, \u001B[38;5;241m*\u001B[39m\u001B[38;5;241m*\u001B[39mkargs)\n",
      "File \u001B[1;32m~\\AppData\\Local\\Programs\\Python\\Python310\\lib\\site-packages\\scapy\\arch\\libpcap.py:302\u001B[0m, in \u001B[0;36m_PcapWrapper_libpcap.__init__\u001B[1;34m(self, device, snaplen, promisc, to_ms, monitor)\u001B[0m\n\u001B[0;32m    300\u001B[0m     error \u001B[38;5;241m=\u001B[39m \u001B[38;5;28mbytes\u001B[39m(\u001B[38;5;28mbytearray\u001B[39m(\u001B[38;5;28mself\u001B[39m\u001B[38;5;241m.\u001B[39merrbuf))\u001B[38;5;241m.\u001B[39mstrip(\u001B[38;5;124mb\u001B[39m\u001B[38;5;124m\"\u001B[39m\u001B[38;5;130;01m\\x00\u001B[39;00m\u001B[38;5;124m\"\u001B[39m)\n\u001B[0;32m    301\u001B[0m     \u001B[38;5;28;01mif\u001B[39;00m error:\n\u001B[1;32m--> 302\u001B[0m         \u001B[38;5;28;01mraise\u001B[39;00m \u001B[38;5;167;01mOSError\u001B[39;00m(error)\n\u001B[0;32m    304\u001B[0m \u001B[38;5;28;01mif\u001B[39;00m WINDOWS:\n\u001B[0;32m    305\u001B[0m     \u001B[38;5;66;03m# Winpcap/Npcap exclusive: make every packet to be instantly\u001B[39;00m\n\u001B[0;32m    306\u001B[0m     \u001B[38;5;66;03m# returned, and not buffered within Winpcap/Npcap\u001B[39;00m\n\u001B[0;32m    307\u001B[0m     pcap_setmintocopy(\u001B[38;5;28mself\u001B[39m\u001B[38;5;241m.\u001B[39mpcap, \u001B[38;5;241m0\u001B[39m)\n",
      "\u001B[1;31mOSError\u001B[0m: b'\\\\Device\\\\NPF_{50F4922D-E519-4DF5-8AB1-EC5AA1564F26}: failed to set hardware filter to promiscuous mode: Un p\\xe9riph\\xe9rique attach\\xe9 au syst\\xe8me ne fonctionne pas correctement.  (31)'"
     ]
    }
   ],
   "source": [
    "from scapy.all import *\n",
    "\n",
    "ICMPV6_types= {128 : \"Echo-Request\", 129 : \"Echo-Rely\", 135 : \"NeighborSoliciation\", 136 : \"NeighborAdvertisement\", 143 : \"RouterSolicitation\", 144 : \"RouterAdvertisement\"}\n",
    "\n",
    "def print_ipv6(trame):\n",
    "    print(trame.summary())\n",
    "    type = trame[2].type\n",
    "    if type == 135 or type == 136:\n",
    "        print(\"TYPE PACKET ICMPV6 : \" + ICMPV6_types[type])\n",
    "        print(\"Ethernet MAC SOURCE : \" + trame[0].src)\n",
    "        print(\"Ethernet MAC DESTINATION : \" + trame[0].dst)\n",
    "        print(\"IPv6 SOURCE : \" + trame[1].src)\n",
    "        print(\"IPv6 DESTINATION : \" + trame[1].dst)\n",
    "        print(\"ICMPV6 IP TARGET : \" + trame[2].tgt)\n",
    "        print(\"ICMPV6 MAC REQUESTED : \" + trame[3].lladdr + \"\\n\")\n",
    "    else:\n",
    "        print(\"TYPE PACKET ICMP: \" + ICMPV6_types[type])\n",
    "        print(\"Ethernet MAC SOURCE : \" + trame[0].src)\n",
    "        print(\"Ethernet MAC DESTINATION : \" + trame[0].dst)\n",
    "        print(\"IPv6 SOURCE : \" + trame[1].src)\n",
    "        print(\"IPv6 DESTINATION : \" + trame[1].dst + \"\\n\")\n",
    "\n",
    "carte = conf.iface\n",
    "print(conf.iface)\n",
    "print(f\"Sniffing on {carte} \\n {sniff(filter='ip', iface=carte, prn=print_ipv6, store=0, count=10)}\")"
   ]
  },
  {
   "cell_type": "code",
   "execution_count": null,
   "outputs": [],
   "source": [],
   "metadata": {
    "collapsed": false
   }
  }
 ],
 "metadata": {
  "kernelspec": {
   "display_name": "Python 3",
   "language": "python",
   "name": "python3"
  },
  "language_info": {
   "codemirror_mode": {
    "name": "ipython",
    "version": 2
   },
   "file_extension": ".py",
   "mimetype": "text/x-python",
   "name": "python",
   "nbconvert_exporter": "python",
   "pygments_lexer": "ipython2",
   "version": "2.7.6"
  }
 },
 "nbformat": 4,
 "nbformat_minor": 0
}
